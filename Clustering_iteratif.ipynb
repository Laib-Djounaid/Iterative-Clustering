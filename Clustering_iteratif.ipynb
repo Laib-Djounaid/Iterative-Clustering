{
 "cells": [
  {
   "cell_type": "code",
   "execution_count": 35,
   "metadata": {},
   "outputs": [],
   "source": [
    "import math, random\n",
    "import numpy as np\n",
    "import matplotlib.pyplot as plt\n",
    "import pandas as pd\n",
    "from sklearn.decomposition import PCA\n",
    "from sklearn.discriminant_analysis import LinearDiscriminantAnalysis as LDA\n",
    "from sklearn import preprocessing\n"
   ]
  },
  {
   "cell_type": "code",
   "execution_count": 36,
   "metadata": {},
   "outputs": [],
   "source": [
    "df = pd.read_csv('iris.txt',delim_whitespace=True,index_col='ID')\n",
    "#df= pd.DataFrame(l,columns=head)\n",
    "df=df.iloc[:,[0,1,2,3]]"
   ]
  },
  {
   "cell_type": "code",
   "execution_count": 37,
   "metadata": {},
   "outputs": [],
   "source": [
    "#On centre les variables :\n",
    "scaled_data = preprocessing.scale(df.T)\n",
    "#On cree un pca :\n",
    "pca = PCA()\n",
    "pca_data = pca.fit_transform(scaled_data.T)\n"
   ]
  },
  {
   "cell_type": "code",
   "execution_count": 72,
   "metadata": {},
   "outputs": [
    {
     "data": {
      "image/png": "[encoded data removed]",
      "text/plain": [
       "<Figure size 640x480 with 1 Axes>"
      ]
     },
     "metadata": {},
     "output_type": "display_data"
    }
   ],
   "source": [
    "#Pour choisir le nombre de composantes principales, on calcule\n",
    "#le pourcentage de variations pour chaque composantes principales:\n",
    "per_var = np.round(pca.explained_variance_ratio_*100,decimals=1)\n",
    "labels= ['PC'+str(x) for x in range(1,len(per_var)+1)]\n",
    "#On cree un diagramme a barres :\n",
    "plt.bar(x= range(1,len(per_var)+1),height=per_var,tick_label=labels)\n",
    "plt.show()"
   ]
  },
  {
   "cell_type": "markdown",
   "metadata": {},
   "source": [
    "Donc les deux premieres composantes principales sont suffisantes pour \n",
    "avoir une bonne representaions des données"
   ]
  },
  {
   "cell_type": "code",
   "execution_count": 39,
   "metadata": {},
   "outputs": [
    {
     "data": {
      "image/png": "[encoded data removed]",
      "text/plain": [
       "<Figure size 640x480 with 1 Axes>"
      ]
     },
     "metadata": {},
     "output_type": "display_data"
    }
   ],
   "source": [
    "pca_df = pd.DataFrame(pca_data)\n",
    "plt.scatter(pca_df[0],pca_df[1],c='#03224c')\n",
    "plt.show()"
   ]
  },
  {
   "cell_type": "markdown",
   "metadata": {},
   "source": [
    "On voit bien ici qu'il y a deux clusters, \n",
    "Verifions ce résultat avec le clustering itératif"
   ]
  },
  {
   "cell_type": "markdown",
   "metadata": {},
   "source": [
    "Clustering iteratif :"
   ]
  },
  {
   "cell_type": "code",
   "execution_count": 97,
   "metadata": {},
   "outputs": [
    {
     "name": "stdout",
     "output_type": "stream",
     "text": [
      "dict_keys(['c1', 'c2'])\n",
      "Distance automatique: 1.0989382219838135\n"
     ]
    }
   ],
   "source": [
    "#Centroid of np.array\n",
    "def centroid(l):\n",
    "    indexes={}\n",
    "    temp_num =0\n",
    "    resultat =[]\n",
    "    temp_alpha={}\n",
    "    for i in range(len(l[0])): #Parcours des attributs\n",
    "        indexes[i]=0\n",
    "        for t in l :\n",
    "            if str(t[i]).isnumeric() :\n",
    "                temp_num+=float(t[i])\n",
    "            else :\n",
    "                if str(t[i]) in temp_alpha :\n",
    "                    temp_alpha[t[i]]+=1\n",
    "\n",
    "                else :\n",
    "                    temp_alpha[t[i]]=1\n",
    "            if str(t[i]).isnumeric():\n",
    "                indexes[i]+=temp_num/len(l)\n",
    "                temp_num=0\n",
    "            else :\n",
    "                if temp_alpha != {} :\n",
    "                    sorted(temp_alpha.items(), key=lambda x: x[1], reverse=True) \n",
    "                    indexes[i]=sorted(temp_alpha.items(), key=lambda x: x[1],reverse=True)[0][0] #Hna nahina list()\n",
    "                \n",
    "                temp_alpha={}\n",
    "\n",
    "        temp_num=0\n",
    "        sorted(indexes.items(), key=lambda x: x[0])\n",
    "    for i in indexes.keys() :\n",
    "        resultat.append(indexes[i])\n",
    "\n",
    "    resultat_string = map(str, resultat)\n",
    "\n",
    "    return list(resultat)\n",
    "#print(scaled_data.T[0])\n",
    "s_list = scaled_data.values.tolist()\n",
    "\n",
    "def dist_auto(s_list) :\n",
    "    dist_moy = 0\n",
    "    x=1\n",
    "    for e in s_list :\n",
    "        for i in range(x,len(s_list)) :\n",
    "            dist_moy += math.dist(e,s_list[i])/len(s_list)\n",
    "            x+=1\n",
    "    return dist_moy\n",
    "\n",
    "#print(dist_auto(s_list))\n",
    "\n",
    "\n",
    "def clustering_iteratif (l,min_dist) :\n",
    "    #Les clusters sont stockés dans le dictionnaire suivant:\n",
    "    #Chaque cluster est carecterisé par une liste d'items faisant partie de ce cluster ainsi qu'un centroide\n",
    "    clusters ={}\n",
    "    #On initialise le dictionnaire des clusters avec un premier cluster c1\n",
    "    #On initialise le centroide par le premier item de la liste\n",
    "    #On initialise la liste d'items par le premier item de la liste\n",
    "    clusters[\"c1\"]={\n",
    "        'centroid':l[0],\n",
    "        'items': [l[0],]\n",
    "    }\n",
    "    \n",
    "    for i in range(1,len(l)) : #On parcours la liste a partir du deuxieme item\n",
    "        #print(\"Iteration : \"+str(i))\n",
    "        clusters_candidats=[] #On initialise une liste de clusters candidats\n",
    "        for c in clusters.keys() :#On parcours la liste des clusters \n",
    "            #Si la math.dist entre le centroide du cluster et le tuple entrant dans cette iteration est <= a la math.dist minimale (critere d'acceptation)\n",
    "            #alors, ce cluster est candidat\n",
    "            # print(list(clusters[c]['centroid']))\n",
    "            # print(l[i])\n",
    "            if math.dist(l[i],list(clusters[c]['centroid']))<=min_dist :\n",
    "                clusters_candidats.append(c)\n",
    "\n",
    "    #Si il y a bien des clusters candidats, on choisi celui dont le centroide est le plus proche de notre item\n",
    "        if clusters_candidats!=[] :\n",
    "            dmin= math.dist(l[i],list(clusters[clusters_candidats[0]]['centroid'])) #On initialise la math.dist minimale\n",
    "            cluster_min = clusters_candidats[0] #On initialise le cluster minimal\n",
    "            for candidat in clusters_candidats :\n",
    "                if math.dist(l[i],list(clusters[candidat]['centroid'])) <= dmin :\n",
    "                    dmin=math.dist(l[i],list(clusters[candidat]['centroid']))\n",
    "                    cluster_min = candidat\n",
    "            \n",
    "            #if l[i] not in clusters[cluster_min]['items'] :\n",
    "\n",
    "            #On ajoute le tuple au cluster minimum trouvé\n",
    "            clusters[cluster_min]['items'].append(l[i])\n",
    "            #On met a jour le centroide du cluster\n",
    "            clusters[cluster_min]['centroid']=centroid(clusters[cluster_min]['items'])\n",
    "        \n",
    "        #Si il n'y a pas de clusters candidats, autrement dit, tous les clusters disponibles sont eloignés de notre item\n",
    "        #dans ce cas on crée un nouveau cluster\n",
    "        else :\n",
    "            x=len(clusters.keys())+1 #Indice du nouveau cluster\n",
    "            clusters[\"c\"+str(x)]={\n",
    "                'items': [l[i],],\n",
    "                'centroid': l[i]\n",
    "            }\n",
    "            \n",
    "\n",
    "    return clusters\n",
    "\n",
    "#print(s_list)\n",
    "\n",
    "print(clustering_iteratif(s_list,dist_auto(s_list)).keys())\n",
    "print(\"Distance automatique: \"+str(dist_auto(s_list)))\n",
    "#s_list\n"
   ]
  }
 ],
 "metadata": {
  "kernelspec": {
   "display_name": "Python 3.9.9 64-bit",
   "language": "python",
   "name": "python3"
  },
  "language_info": {
   "codemirror_mode": {
    "name": "ipython",
    "version": 3
   },
   "file_extension": ".py",
   "mimetype": "text/x-python",
   "name": "python",
   "nbconvert_exporter": "python",
   "pygments_lexer": "ipython3",
   "version": "3.9.9"
  },
  "orig_nbformat": 4,
  "vscode": {
   "interpreter": {
    "hash": "f6246b25e200e4c5124e3e61789ac81350562f0761bbcf92ad9e48654207659c"
   }
  }
 },
 "nbformat": 4,
 "nbformat_minor": 2
}
